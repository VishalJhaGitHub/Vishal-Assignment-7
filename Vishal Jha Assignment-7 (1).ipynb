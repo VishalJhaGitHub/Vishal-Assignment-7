{
 "cells": [
  {
   "cell_type": "code",
   "execution_count": 4,
   "id": "ab184ba0-72c3-4611-af7a-75ef6f0a3687",
   "metadata": {},
   "outputs": [],
   "source": [
    "#1. Create a function which will take a list as an argument and return the product of all the numbers after creating a flat list.\n",
    "\n",
    "# Use the below-given list as an argument for your function.\n",
    "\n",
    "# list1 = [1,2,3,4, [44,55,66, True], False, (34,56,78,89,34), {1,2,3,3,2,1}, {1:34, \"key2\": [55, 67, 78, 89], 4: (45, 22, 61, 34)}, [56, 'data science'], 'Machine Learning']\n",
    "\n",
    "# Note: you must extract numeric keys and values of the dictionary also.\n",
    "\n",
    "#Ans\n",
    "\n",
    "def product_of_numbers(lst):\n",
    "    # define a function to flatten the list\n",
    "    def flatten(lst):\n",
    "        flattened = []\n",
    "        for item in lst:\n",
    "            if isinstance(item, (list, tuple, set)):\n",
    "                flattened.extend(flatten(item))\n",
    "            elif isinstance(item, dict):\n",
    "                flattened.extend(flatten(item.keys()))\n",
    "                flattened.extend(flatten(item.values()))\n",
    "            else:\n",
    "                flattened.append(item)\n",
    "        return flattened\n",
    "    # get the flattened list of numeric values\n",
    "    flattened_lst = flatten(lst)\n",
    "    numeric_lst = [x for x in flattened_lst if isinstance(x, (int, float))]\n",
    "    # calculate the product of the numeric values\n",
    "    product = 1\n",
    "    for num in numeric_lst:\n",
    "        product *= num\n",
    "    return product"
   ]
  },
  {
   "cell_type": "code",
   "execution_count": 5,
   "id": "d7f6cf24-147f-4b1e-bb2f-20e9d539674a",
   "metadata": {},
   "outputs": [
    {
     "name": "stdout",
     "output_type": "stream",
     "text": [
      "0\n"
     ]
    }
   ],
   "source": [
    "# We can use the above function with the list1 argument provided in the question like this - \n",
    "\n",
    "list1 = [1,2,3,4, [44,55,66, True], False, (34,56,78,89,34), {1,2,3,3,2,1}, {1:34, \"key2\": [55, 67, 78, 89], 4: (45, 22, 61, 34)}, [56, 'data science'], 'Machine Learning']\n",
    "result = product_of_numbers(list1)\n",
    "print(result)"
   ]
  },
  {
   "cell_type": "code",
   "execution_count": 7,
   "id": "f9e0ffad-1371-48d2-bfa5-a08432dea735",
   "metadata": {},
   "outputs": [
    {
     "name": "stdout",
     "output_type": "stream",
     "text": [
      "r$dzmg$gl$yvxlnv$z$wzgz$hxrvmgrhg.\n"
     ]
    }
   ],
   "source": [
    "#2. Write a python program for encrypting a message sent to you by your friend. The logic of encryption should be such that, for a the output should be z. For b, the output should be y. For c, the output should be x respectively. Also, the whitespace should be replaced with a dollar sign. Keep the punctuation marks unchanged.\n",
    "\n",
    "# Input Sentence: I want to become a Data Scientist.\n",
    "\n",
    "\n",
    "# Encrypt the above input sentence using the program you just created.\n",
    "\n",
    "# Note: Convert the given input sentence into lowercase before encrypting. The final output should be lowercase.\n",
    "\n",
    "#Ans \n",
    "\n",
    "def encrypt(message):\n",
    "    message = message.lower() # convert to lowercase\n",
    "    result = \"\"\n",
    "    for char in message:\n",
    "        if char.isalpha():\n",
    "            result += chr(ord('a') + (ord('z') - ord(char))) # encryption logic\n",
    "        elif char == ' ':\n",
    "            result += '$' # replace whitespace with $\n",
    "        else:\n",
    "            result += char # keep punctuation marks unchanged\n",
    "    return result\n",
    "# Example usage:\n",
    "input_sentence = \"I want to become a Data Scientist.\"\n",
    "encrypted_message = encrypt(input_sentence)\n",
    "print(encrypted_message)"
   ]
  }
 ],
 "metadata": {
  "kernelspec": {
   "display_name": "Python 3 (ipykernel)",
   "language": "python",
   "name": "python3"
  },
  "language_info": {
   "codemirror_mode": {
    "name": "ipython",
    "version": 3
   },
   "file_extension": ".py",
   "mimetype": "text/x-python",
   "name": "python",
   "nbconvert_exporter": "python",
   "pygments_lexer": "ipython3",
   "version": "3.10.8"
  }
 },
 "nbformat": 4,
 "nbformat_minor": 5
}
